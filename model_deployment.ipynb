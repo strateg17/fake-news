{
  "nbformat": 4,
  "nbformat_minor": 0,
  "metadata": {
    "colab": {
      "provenance": [],
      "authorship_tag": "ABX9TyPM/SzBjTwRaWyM/q0m0NrN",
      "include_colab_link": true
    },
    "kernelspec": {
      "name": "python3",
      "display_name": "Python 3"
    },
    "language_info": {
      "name": "python"
    }
  },
  "cells": [
    {
      "cell_type": "markdown",
      "metadata": {
        "id": "view-in-github",
        "colab_type": "text"
      },
      "source": [
        "<a href=\"https://colab.research.google.com/github/strateg17/fake-news/blob/dev/model_deployment.ipynb\" target=\"_parent\"><img src=\"https://colab.research.google.com/assets/colab-badge.svg\" alt=\"Open In Colab\"/></a>"
      ]
    },
    {
      "cell_type": "code",
      "execution_count": null,
      "metadata": {
        "id": "FdA9m81-cYb7"
      },
      "outputs": [],
      "source": [
        "!pip install gradio"
      ]
    },
    {
      "cell_type": "code",
      "source": [
        "import joblib\n",
        "import gradio as gr"
      ],
      "metadata": {
        "id": "qJbOWyJbdT9-"
      },
      "execution_count": 2,
      "outputs": []
    },
    {
      "cell_type": "code",
      "source": [
        "# Load your trained model and vectorizer (assuming they're saved as 'lgbm_model.pkl' and 'vectorizer.pkl')\n",
        "model = joblib.load('lgbm_model.joblib')\n",
        "vectorizer = joblib.load('vectorizer.joblib')"
      ],
      "metadata": {
        "id": "H1QFjlWBdck3"
      },
      "execution_count": 5,
      "outputs": []
    },
    {
      "cell_type": "code",
      "source": [
        "def classify_text(text):\n",
        "    # Transform the input text using the loaded vectorizer\n",
        "    text_vector = vectorizer.transform([text])\n",
        "\n",
        "    # Predict using the loaded model\n",
        "    prediction = model.predict(text_vector)\n",
        "\n",
        "    return 'Fake' if int(prediction[0]) == 1 else 'Not Fake'\n",
        "\n",
        "# Create the Gradio interface\n",
        "iface = gr.Interface(\n",
        "    fn=classify_text,\n",
        "    inputs=gr.Textbox(lines=2, placeholder=\"Enter text here...\"),\n",
        "    outputs=gr.Label(),\n",
        "    title=\"Fake News Classifier\",\n",
        "    description=\"Enter text to classify if it's Fake or Not fake.\",\n",
        "    examples=[\n",
        "        \"Space X s Starlink internet constellation has angered Russia as it was reported that the Starlink satellite constellation was used to guide the fire on the Russian ship Moskva\",\n",
        "        \"If you're a    wealthy CEO or a    hedge fund manager in America right now, your taxes are    lower than they've been since the 1950s.\",\n",
        "        \"Ukraine looks for ways to combat Russian attacks with Iran-made drones\",\n",
        "        \"Beijing will send troops to Russia to participate in Vostok-2022 drills, Chinese defense ministry says\",\n",
        "        \"Russian forces have lost about 1,000 tanks in Ukraine so far, according to senior US defense official\"\n",
        "      ]\n",
        ")\n",
        "\n",
        "# Launch the interface\n",
        "if __name__ == \"__main__\":\n",
        "    iface.launch()\n"
      ],
      "metadata": {
        "colab": {
          "base_uri": "https://localhost:8080/",
          "height": 645
        },
        "id": "VLP3SsqadciW",
        "outputId": "7d38bf29-576e-47e8-d9d4-a81c2b277900"
      },
      "execution_count": 6,
      "outputs": [
        {
          "output_type": "stream",
          "name": "stdout",
          "text": [
            "Setting queue=True in a Colab notebook requires sharing enabled. Setting `share=True` (you can turn this off by setting `share=False` in `launch()` explicitly).\n",
            "\n",
            "Colab notebook detected. To show errors in colab notebook, set debug=True in launch()\n",
            "Running on public URL: https://ab6a00a5bef6c78abc.gradio.live\n",
            "\n",
            "This share link expires in 72 hours. For free permanent hosting and GPU upgrades, run `gradio deploy` from Terminal to deploy to Spaces (https://huggingface.co/spaces)\n"
          ]
        },
        {
          "output_type": "display_data",
          "data": {
            "text/plain": [
              "<IPython.core.display.HTML object>"
            ],
            "text/html": [
              "<div><iframe src=\"https://ab6a00a5bef6c78abc.gradio.live\" width=\"100%\" height=\"500\" allow=\"autoplay; camera; microphone; clipboard-read; clipboard-write;\" frameborder=\"0\" allowfullscreen></iframe></div>"
            ]
          },
          "metadata": {}
        }
      ]
    },
    {
      "cell_type": "code",
      "source": [],
      "metadata": {
        "id": "43ovXvbXdcfw"
      },
      "execution_count": null,
      "outputs": []
    },
    {
      "cell_type": "code",
      "source": [],
      "metadata": {
        "id": "GAePNpFUdcdL"
      },
      "execution_count": null,
      "outputs": []
    }
  ]
}