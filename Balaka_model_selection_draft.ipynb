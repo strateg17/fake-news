{
  "nbformat": 4,
  "nbformat_minor": 0,
  "metadata": {
    "colab": {
      "provenance": [],
      "authorship_tag": "ABX9TyNykiA2rGoeivjyGM4R+JGb",
      "include_colab_link": true
    },
    "kernelspec": {
      "name": "python3",
      "display_name": "Python 3"
    },
    "language_info": {
      "name": "python"
    }
  },
  "cells": [
    {
      "cell_type": "markdown",
      "metadata": {
        "id": "view-in-github",
        "colab_type": "text"
      },
      "source": [
        "<a href=\"https://colab.research.google.com/github/strateg17/fake-news/blob/dev/Balaka_model_selection_draft.ipynb\" target=\"_parent\"><img src=\"https://colab.research.google.com/assets/colab-badge.svg\" alt=\"Open In Colab\"/></a>"
      ]
    },
    {
      "cell_type": "markdown",
      "source": [
        "Бібліотеки, завантаження та підготовка данних"
      ],
      "metadata": {
        "id": "Y_Hrxi_6TslO"
      }
    },
    {
      "cell_type": "code",
      "source": [
        "import numpy as np\n",
        "import pandas as pd\n",
        "import matplotlib.pyplot as plt\n",
        "from sklearn.datasets import fetch_20newsgroups\n",
        "from sklearn.feature_extraction.text import TfidfVectorizer\n",
        "from sklearn.model_selection import train_test_split, cross_val_score\n",
        "from sklearn.linear_model import LogisticRegression\n",
        "from sklearn.naive_bayes import MultinomialNB\n",
        "from sklearn.tree import DecisionTreeClassifier\n",
        "from sklearn.ensemble import RandomForestClassifier, AdaBoostClassifier, BaggingClassifier\n",
        "from xgboost import XGBClassifier\n",
        "from lightgbm import LGBMClassifier\n",
        "from sklearn.neural_network import MLPClassifier\n",
        "from sklearn.metrics import accuracy_score\n",
        "import gensim\n",
        "from gensim.models.doc2vec import Doc2Vec, TaggedDocument\n",
        "from transformers import BertTokenizer, BertModel\n",
        "import torch\n",
        "from typing import Tuple, Dict, Callable, Any\n",
        "\n",
        "# Завантаження та підготовка даних\n",
        "df_test = pd.read_parquet('/content/english_fact_test.parquet', columns=['claim', 'label'])\n",
        "df_train = pd.read_parquet('/content/english_fact_train.parquet', columns=['claim', 'label'])\n",
        "\n",
        "df_combined = pd.concat([df_test, df_train], ignore_index=True)\n",
        "\n",
        "label_mapping = {\n",
        "    'Supported': 0,\n",
        "    'Refuted': 1\n",
        "}\n",
        "\n",
        "\n",
        "df_combined['label'] = df_combined['label'].map(label_mapping)\n",
        "#df_test['label'] = df_test['label'].map(label_mapping)\n",
        "#df_train['label'] = df_train['label'].map(label_mapping)\n",
        "\n",
        "# Remove rows where label is NaN (these were 'NEI')\n",
        "df_combined = df_combined.dropna(subset=['label'])\n",
        "#df_test = df_test.dropna(subset=['label'])\n",
        "#df_train = df_train.dropna(subset=['label'])\n",
        "\n",
        "# Optionally, convert the label column to integer type\n",
        "df_combined['label'] = df_combined['label'].astype(int)\n",
        "#df_test['label'] = df_test['label'].astype(int)\n",
        "#df_train['label'] = df_train['label'].astype(int)\n",
        "\n",
        "X = df_combined.claim\n",
        "y = df_combined.label\n",
        "#X_train = df_train.claim\n",
        "#y_train = df_train.label\n",
        "#X_test = df_test.claim\n",
        "#y_test = df_test.label\n",
        "\n",
        "# Поділ на навчальну і тестову вибірки\n",
        "X_train, X_test, y_train, y_test = train_test_split(X, y, test_size=0.2, random_state=42)"
      ],
      "metadata": {
        "id": "zvb_SFDjTsCu"
      },
      "execution_count": 16,
      "outputs": []
    },
    {
      "cell_type": "code",
      "source": [
        "# Методи трансформації тексту\n",
        "def tfidf_transform(X_train: list[str], X_test: list[str]) -> Tuple[np.ndarray, np.ndarray]:\n",
        "    \"\"\"\n",
        "    Трансформація тексту у TF-IDF вектори.\n",
        "\n",
        "    :param X_train: Список текстів навчальної вибірки.\n",
        "    :param X_test: Список текстів тестової вибірки.\n",
        "    :return: Трансформовані навчальні та тестові дані у вигляді TF-IDF векторів.\n",
        "    \"\"\"\n",
        "    vectorizer = TfidfVectorizer()\n",
        "    X_train_tfidf = vectorizer.fit_transform(X_train)\n",
        "    X_test_tfidf = vectorizer.transform(X_test)\n",
        "    return X_train_tfidf, X_test_tfidf\n",
        "\n",
        "def word2vec_transform(X_train: list[str], X_test: list[str]) -> Tuple[np.ndarray, np.ndarray]:\n",
        "    \"\"\"\n",
        "    Трансформація тексту у Word2Vec вектори.\n",
        "\n",
        "    :param X_train: Список текстів навчальної вибірки.\n",
        "    :param X_test: Список текстів тестової вибірки.\n",
        "    :return: Трансформовані навчальні та тестові дані у вигляді Word2Vec векторів.\n",
        "    \"\"\"\n",
        "    model = gensim.models.Word2Vec([text.split() for text in X_train], vector_size=100, window=5, min_count=1, workers=4)\n",
        "    X_train_w2v = np.array([np.mean([model.wv[word] for word in text.split() if word in model.wv] or [np.zeros(100)], axis=0) for text in X_train])\n",
        "    X_test_w2v = np.array([np.mean([model.wv[word] for word in text.split() if word in model.wv] or [np.zeros(100)], axis=0) for text in X_test])\n",
        "    return X_train_w2v, X_test_w2v\n",
        "\n",
        "def doc2vec_transform(X_train: list[str], X_test: list[str]) -> Tuple[np.ndarray, np.ndarray]:\n",
        "    \"\"\"\n",
        "    Трансформація тексту у Doc2Vec вектори.\n",
        "\n",
        "    :param X_train: Список текстів навчальної вибірки.\n",
        "    :param X_test: Список текстів тестової вибірки.\n",
        "    :return: Трансформовані навчальні та тестові дані у вигляді Doc2Vec векторів.\n",
        "    \"\"\"\n",
        "    tagged_data = [TaggedDocument(words=text.split(), tags=[i]) for i, text in enumerate(X_train)]\n",
        "    model = Doc2Vec(tagged_data, vector_size=100, window=5, min_count=1, workers=4)\n",
        "    X_train_d2v = np.array([model.infer_vector(text.split()) for text in X_train])\n",
        "    X_test_d2v = np.array([model.infer_vector(text.split()) for text in X_test])\n",
        "    return X_train_d2v, X_test_d2v\n",
        "\n",
        "def transformer_embeddings(X_train: list[str], X_test: list[str]) -> Tuple[np.ndarray, np.ndarray]:\n",
        "    \"\"\"\n",
        "    Трансформація тексту у векторні подання за допомогою BERT.\n",
        "\n",
        "    :param X_train: Список текстів навчальної вибірки.\n",
        "    :param X_test: Список текстів тестової вибірки.\n",
        "    :return: Трансформовані навчальні та тестові дані у вигляді BERT векторів.\n",
        "    \"\"\"\n",
        "    tokenizer = BertTokenizer.from_pretrained('bert-base-uncased')\n",
        "    model = BertModel.from_pretrained('bert-base-uncased')\n",
        "\n",
        "    def encode(texts: list[str]) -> np.ndarray:\n",
        "        inputs = tokenizer(texts, return_tensors='pt', padding=True, truncation=True, max_length=512)\n",
        "        with torch.no_grad():\n",
        "            outputs = model(**inputs)\n",
        "        return outputs.last_hidden_state[:, 0, :].numpy()\n",
        "\n",
        "    X_train_bert = encode(X_train)\n",
        "    X_test_bert = encode(X_test)\n",
        "    return X_train_bert, X_test_bert"
      ],
      "metadata": {
        "id": "3fiMAg60Wb0I"
      },
      "execution_count": 17,
      "outputs": []
    },
    {
      "cell_type": "code",
      "source": [
        "# Функція для оцінки моделей\n",
        "def evaluate_models(models: Dict[str, Any], X_train: np.ndarray, y_train: np.ndarray) -> Dict[str, Tuple[float, float]]:\n",
        "    \"\"\"\n",
        "    Оцінка моделей за допомогою перехресної валідації.\n",
        "\n",
        "    :param models: Словник моделей для оцінки.\n",
        "    :param X_train: Трансформовані навчальні дані.\n",
        "    :param y_train: Мітки навчальних даних.\n",
        "    :return: Словник з назвами моделей та їх середніми оцінками і стандартними відхиленнями.\n",
        "    \"\"\"\n",
        "    results = {}\n",
        "    for name, model in models.items():\n",
        "        scores = cross_val_score(model, X_train, y_train, cv=5, scoring='accuracy')\n",
        "        results[name] = (np.mean(scores), np.std(scores))\n",
        "        print(f\"{name}: {np.mean(scores):.4f} ± {np.std(scores):.4f}\")\n",
        "    return results"
      ],
      "metadata": {
        "id": "mAhOny6_WiZg"
      },
      "execution_count": 18,
      "outputs": []
    },
    {
      "cell_type": "code",
      "source": [
        "# Список моделей для оцінки\n",
        "models = {\n",
        "    \"Logistic Regression\": LogisticRegression(max_iter=1000),\n",
        "    \"Naive Bayes\": MultinomialNB(),\n",
        "    \"Decision Tree\": DecisionTreeClassifier(),\n",
        "    \"Random Forest\": RandomForestClassifier(),\n",
        "    \"AdaBoost\": AdaBoostClassifier(),\n",
        "    \"Bagging\": BaggingClassifier(),\n",
        "    \"XGBoost\": XGBClassifier(use_label_encoder=False, eval_metric='mlogloss'),\n",
        "    \"LightGBM\": LGBMClassifier(),\n",
        "    \"MLP\": MLPClassifier(max_iter=1000)\n",
        "}\n"
      ],
      "metadata": {
        "id": "O1tOWuwyWn2G"
      },
      "execution_count": 19,
      "outputs": []
    },
    {
      "cell_type": "code",
      "source": [
        "# Методи трансформації тексту для оцінки\n",
        "transformation_methods = {\n",
        "    \"TF-IDF\": tfidf_transform,\n",
        "    \"Word2Vec\": word2vec_transform,\n",
        "    \"Doc2Vec\": doc2vec_transform,\n",
        "    \"BERT Embeddings\": transformer_embeddings\n",
        "}\n"
      ],
      "metadata": {
        "id": "UPxf1KkvWrlH"
      },
      "execution_count": 20,
      "outputs": []
    },
    {
      "cell_type": "code",
      "execution_count": 21,
      "metadata": {
        "colab": {
          "base_uri": "https://localhost:8080/",
          "height": 1000
        },
        "id": "IGpKA5XRLXrZ",
        "outputId": "34c92fe0-7cd6-436b-b102-d11451a14ed7"
      },
      "outputs": [
        {
          "output_type": "stream",
          "name": "stdout",
          "text": [
            "\n",
            "Оцінка моделей для методу трансформації: TF-IDF\n",
            "Logistic Regression: 0.7830 ± 0.0171\n",
            "Naive Bayes: 0.7610 ± 0.0118\n",
            "Decision Tree: 0.7280 ± 0.0077\n",
            "Random Forest: 0.7684 ± 0.0145\n",
            "AdaBoost: 0.7596 ± 0.0154\n",
            "Bagging: 0.7495 ± 0.0111\n",
            "XGBoost: 0.7816 ± 0.0070\n",
            "[LightGBM] [Info] Number of positive: 1555, number of negative: 3097\n",
            "[LightGBM] [Info] Auto-choosing row-wise multi-threading, the overhead of testing was 0.017204 seconds.\n",
            "You can set `force_row_wise=true` to remove the overhead.\n",
            "And if memory is not enough, you can set `force_col_wise=true`.\n",
            "[LightGBM] [Info] Total Bins 13140\n",
            "[LightGBM] [Info] Number of data points in the train set: 4652, number of used features: 511\n",
            "[LightGBM] [Info] [binary:BoostFromScore]: pavg=0.334265 -> initscore=-0.688958\n",
            "[LightGBM] [Info] Start training from score -0.688958\n",
            "[LightGBM] [Info] Number of positive: 1555, number of negative: 3098\n",
            "[LightGBM] [Info] Auto-choosing row-wise multi-threading, the overhead of testing was 0.017084 seconds.\n",
            "You can set `force_row_wise=true` to remove the overhead.\n",
            "And if memory is not enough, you can set `force_col_wise=true`.\n",
            "[LightGBM] [Info] Total Bins 13032\n",
            "[LightGBM] [Info] Number of data points in the train set: 4653, number of used features: 497\n",
            "[LightGBM] [Info] [binary:BoostFromScore]: pavg=0.334193 -> initscore=-0.689281\n",
            "[LightGBM] [Info] Start training from score -0.689281\n",
            "[LightGBM] [Info] Number of positive: 1555, number of negative: 3098\n",
            "[LightGBM] [Info] Auto-choosing row-wise multi-threading, the overhead of testing was 0.017799 seconds.\n",
            "You can set `force_row_wise=true` to remove the overhead.\n",
            "And if memory is not enough, you can set `force_col_wise=true`.\n",
            "[LightGBM] [Info] Total Bins 13221\n",
            "[LightGBM] [Info] Number of data points in the train set: 4653, number of used features: 515\n",
            "[LightGBM] [Info] [binary:BoostFromScore]: pavg=0.334193 -> initscore=-0.689281\n",
            "[LightGBM] [Info] Start training from score -0.689281\n",
            "[LightGBM] [Info] Number of positive: 1555, number of negative: 3098\n",
            "[LightGBM] [Info] Auto-choosing row-wise multi-threading, the overhead of testing was 0.017840 seconds.\n",
            "You can set `force_row_wise=true` to remove the overhead.\n",
            "And if memory is not enough, you can set `force_col_wise=true`.\n",
            "[LightGBM] [Info] Total Bins 13088\n",
            "[LightGBM] [Info] Number of data points in the train set: 4653, number of used features: 507\n",
            "[LightGBM] [Info] [binary:BoostFromScore]: pavg=0.334193 -> initscore=-0.689281\n",
            "[LightGBM] [Info] Start training from score -0.689281\n",
            "[LightGBM] [Info] Number of positive: 1556, number of negative: 3097\n",
            "[LightGBM] [Info] Auto-choosing col-wise multi-threading, the overhead of testing was 0.016859 seconds.\n",
            "You can set `force_col_wise=true` to remove the overhead.\n",
            "[LightGBM] [Info] Total Bins 12859\n",
            "[LightGBM] [Info] Number of data points in the train set: 4653, number of used features: 489\n",
            "[LightGBM] [Info] [binary:BoostFromScore]: pavg=0.334408 -> initscore=-0.688315\n",
            "[LightGBM] [Info] Start training from score -0.688315\n",
            "LightGBM: 0.7748 ± 0.0062\n",
            "MLP: 0.7744 ± 0.0081\n",
            "\n",
            "Найкраща модель для TF-IDF: Logistic Regression з точністю 0.7830\n",
            "Точність на навчальній вибірці для TF-IDF: 0.8769\n",
            "Точність на тестовій вибірці для TF-IDF: 0.7849\n"
          ]
        },
        {
          "output_type": "display_data",
          "data": {
            "text/plain": [
              "<Figure size 1000x500 with 1 Axes>"
            ],
            "image/png": "[encoded data removed]"
          },
          "metadata": {}
        },
        {
          "output_type": "stream",
          "name": "stdout",
          "text": [
            "\n",
            "Оцінка моделей для методу трансформації: Word2Vec\n",
            "Logistic Regression: 0.6902 ± 0.0066\n"
          ]
        },
        {
          "output_type": "error",
          "ename": "ValueError",
          "evalue": "\nAll the 5 fits failed.\nIt is very likely that your model is misconfigured.\nYou can try to debug the error by setting error_score='raise'.\n\nBelow are more details about the failures:\n--------------------------------------------------------------------------------\n5 fits failed with the following error:\nTraceback (most recent call last):\n  File \"/usr/local/lib/python3.10/dist-packages/sklearn/model_selection/_validation.py\", line 686, in _fit_and_score\n    estimator.fit(X_train, y_train, **fit_params)\n  File \"/usr/local/lib/python3.10/dist-packages/sklearn/naive_bayes.py\", line 776, in fit\n    self._count(X, Y)\n  File \"/usr/local/lib/python3.10/dist-packages/sklearn/naive_bayes.py\", line 898, in _count\n    check_non_negative(X, \"MultinomialNB (input X)\")\n  File \"/usr/local/lib/python3.10/dist-packages/sklearn/utils/validation.py\", line 1418, in check_non_negative\n    raise ValueError(\"Negative values in data passed to %s\" % whom)\nValueError: Negative values in data passed to MultinomialNB (input X)\n",
          "traceback": [
            "\u001b[0;31m---------------------------------------------------------------------------\u001b[0m",
            "\u001b[0;31mValueError\u001b[0m                                Traceback (most recent call last)",
            "\u001b[0;32m<ipython-input-21-e85ed4505dcf>\u001b[0m in \u001b[0;36m<cell line: 2>\u001b[0;34m()\u001b[0m\n\u001b[1;32m      7\u001b[0m \u001b[0;34m\u001b[0m\u001b[0m\n\u001b[1;32m      8\u001b[0m     \u001b[0;31m# Оцінка моделей\u001b[0m\u001b[0;34m\u001b[0m\u001b[0;34m\u001b[0m\u001b[0m\n\u001b[0;32m----> 9\u001b[0;31m     \u001b[0mresults\u001b[0m \u001b[0;34m=\u001b[0m \u001b[0mevaluate_models\u001b[0m\u001b[0;34m(\u001b[0m\u001b[0mmodels\u001b[0m\u001b[0;34m,\u001b[0m \u001b[0mX_train_transformed\u001b[0m\u001b[0;34m,\u001b[0m \u001b[0my_train\u001b[0m\u001b[0;34m)\u001b[0m\u001b[0;34m\u001b[0m\u001b[0;34m\u001b[0m\u001b[0m\n\u001b[0m\u001b[1;32m     10\u001b[0m \u001b[0;34m\u001b[0m\u001b[0m\n\u001b[1;32m     11\u001b[0m     \u001b[0;31m# Вибір найкращої моделі для поточного методу трансформації\u001b[0m\u001b[0;34m\u001b[0m\u001b[0;34m\u001b[0m\u001b[0m\n",
            "\u001b[0;32m<ipython-input-18-9b0e6ef547f3>\u001b[0m in \u001b[0;36mevaluate_models\u001b[0;34m(models, X_train, y_train)\u001b[0m\n\u001b[1;32m     11\u001b[0m     \u001b[0mresults\u001b[0m \u001b[0;34m=\u001b[0m \u001b[0;34m{\u001b[0m\u001b[0;34m}\u001b[0m\u001b[0;34m\u001b[0m\u001b[0;34m\u001b[0m\u001b[0m\n\u001b[1;32m     12\u001b[0m     \u001b[0;32mfor\u001b[0m \u001b[0mname\u001b[0m\u001b[0;34m,\u001b[0m \u001b[0mmodel\u001b[0m \u001b[0;32min\u001b[0m \u001b[0mmodels\u001b[0m\u001b[0;34m.\u001b[0m\u001b[0mitems\u001b[0m\u001b[0;34m(\u001b[0m\u001b[0;34m)\u001b[0m\u001b[0;34m:\u001b[0m\u001b[0;34m\u001b[0m\u001b[0;34m\u001b[0m\u001b[0m\n\u001b[0;32m---> 13\u001b[0;31m         \u001b[0mscores\u001b[0m \u001b[0;34m=\u001b[0m \u001b[0mcross_val_score\u001b[0m\u001b[0;34m(\u001b[0m\u001b[0mmodel\u001b[0m\u001b[0;34m,\u001b[0m \u001b[0mX_train\u001b[0m\u001b[0;34m,\u001b[0m \u001b[0my_train\u001b[0m\u001b[0;34m,\u001b[0m \u001b[0mcv\u001b[0m\u001b[0;34m=\u001b[0m\u001b[0;36m5\u001b[0m\u001b[0;34m,\u001b[0m \u001b[0mscoring\u001b[0m\u001b[0;34m=\u001b[0m\u001b[0;34m'accuracy'\u001b[0m\u001b[0;34m)\u001b[0m\u001b[0;34m\u001b[0m\u001b[0;34m\u001b[0m\u001b[0m\n\u001b[0m\u001b[1;32m     14\u001b[0m         \u001b[0mresults\u001b[0m\u001b[0;34m[\u001b[0m\u001b[0mname\u001b[0m\u001b[0;34m]\u001b[0m \u001b[0;34m=\u001b[0m \u001b[0;34m(\u001b[0m\u001b[0mnp\u001b[0m\u001b[0;34m.\u001b[0m\u001b[0mmean\u001b[0m\u001b[0;34m(\u001b[0m\u001b[0mscores\u001b[0m\u001b[0;34m)\u001b[0m\u001b[0;34m,\u001b[0m \u001b[0mnp\u001b[0m\u001b[0;34m.\u001b[0m\u001b[0mstd\u001b[0m\u001b[0;34m(\u001b[0m\u001b[0mscores\u001b[0m\u001b[0;34m)\u001b[0m\u001b[0;34m)\u001b[0m\u001b[0;34m\u001b[0m\u001b[0;34m\u001b[0m\u001b[0m\n\u001b[1;32m     15\u001b[0m         \u001b[0mprint\u001b[0m\u001b[0;34m(\u001b[0m\u001b[0;34mf\"{name}: {np.mean(scores):.4f} ± {np.std(scores):.4f}\"\u001b[0m\u001b[0;34m)\u001b[0m\u001b[0;34m\u001b[0m\u001b[0;34m\u001b[0m\u001b[0m\n",
            "\u001b[0;32m/usr/local/lib/python3.10/dist-packages/sklearn/model_selection/_validation.py\u001b[0m in \u001b[0;36mcross_val_score\u001b[0;34m(estimator, X, y, groups, scoring, cv, n_jobs, verbose, fit_params, pre_dispatch, error_score)\u001b[0m\n\u001b[1;32m    513\u001b[0m     \u001b[0mscorer\u001b[0m \u001b[0;34m=\u001b[0m \u001b[0mcheck_scoring\u001b[0m\u001b[0;34m(\u001b[0m\u001b[0mestimator\u001b[0m\u001b[0;34m,\u001b[0m \u001b[0mscoring\u001b[0m\u001b[0;34m=\u001b[0m\u001b[0mscoring\u001b[0m\u001b[0;34m)\u001b[0m\u001b[0;34m\u001b[0m\u001b[0;34m\u001b[0m\u001b[0m\n\u001b[1;32m    514\u001b[0m \u001b[0;34m\u001b[0m\u001b[0m\n\u001b[0;32m--> 515\u001b[0;31m     cv_results = cross_validate(\n\u001b[0m\u001b[1;32m    516\u001b[0m         \u001b[0mestimator\u001b[0m\u001b[0;34m=\u001b[0m\u001b[0mestimator\u001b[0m\u001b[0;34m,\u001b[0m\u001b[0;34m\u001b[0m\u001b[0;34m\u001b[0m\u001b[0m\n\u001b[1;32m    517\u001b[0m         \u001b[0mX\u001b[0m\u001b[0;34m=\u001b[0m\u001b[0mX\u001b[0m\u001b[0;34m,\u001b[0m\u001b[0;34m\u001b[0m\u001b[0;34m\u001b[0m\u001b[0m\n",
            "\u001b[0;32m/usr/local/lib/python3.10/dist-packages/sklearn/model_selection/_validation.py\u001b[0m in \u001b[0;36mcross_validate\u001b[0;34m(estimator, X, y, groups, scoring, cv, n_jobs, verbose, fit_params, pre_dispatch, return_train_score, return_estimator, error_score)\u001b[0m\n\u001b[1;32m    283\u001b[0m     )\n\u001b[1;32m    284\u001b[0m \u001b[0;34m\u001b[0m\u001b[0m\n\u001b[0;32m--> 285\u001b[0;31m     \u001b[0m_warn_or_raise_about_fit_failures\u001b[0m\u001b[0;34m(\u001b[0m\u001b[0mresults\u001b[0m\u001b[0;34m,\u001b[0m \u001b[0merror_score\u001b[0m\u001b[0;34m)\u001b[0m\u001b[0;34m\u001b[0m\u001b[0;34m\u001b[0m\u001b[0m\n\u001b[0m\u001b[1;32m    286\u001b[0m \u001b[0;34m\u001b[0m\u001b[0m\n\u001b[1;32m    287\u001b[0m     \u001b[0;31m# For callabe scoring, the return type is only know after calling. If the\u001b[0m\u001b[0;34m\u001b[0m\u001b[0;34m\u001b[0m\u001b[0m\n",
            "\u001b[0;32m/usr/local/lib/python3.10/dist-packages/sklearn/model_selection/_validation.py\u001b[0m in \u001b[0;36m_warn_or_raise_about_fit_failures\u001b[0;34m(results, error_score)\u001b[0m\n\u001b[1;32m    365\u001b[0m                 \u001b[0;34mf\"Below are more details about the failures:\\n{fit_errors_summary}\"\u001b[0m\u001b[0;34m\u001b[0m\u001b[0;34m\u001b[0m\u001b[0m\n\u001b[1;32m    366\u001b[0m             )\n\u001b[0;32m--> 367\u001b[0;31m             \u001b[0;32mraise\u001b[0m \u001b[0mValueError\u001b[0m\u001b[0;34m(\u001b[0m\u001b[0mall_fits_failed_message\u001b[0m\u001b[0;34m)\u001b[0m\u001b[0;34m\u001b[0m\u001b[0;34m\u001b[0m\u001b[0m\n\u001b[0m\u001b[1;32m    368\u001b[0m \u001b[0;34m\u001b[0m\u001b[0m\n\u001b[1;32m    369\u001b[0m         \u001b[0;32melse\u001b[0m\u001b[0;34m:\u001b[0m\u001b[0;34m\u001b[0m\u001b[0;34m\u001b[0m\u001b[0m\n",
            "\u001b[0;31mValueError\u001b[0m: \nAll the 5 fits failed.\nIt is very likely that your model is misconfigured.\nYou can try to debug the error by setting error_score='raise'.\n\nBelow are more details about the failures:\n--------------------------------------------------------------------------------\n5 fits failed with the following error:\nTraceback (most recent call last):\n  File \"/usr/local/lib/python3.10/dist-packages/sklearn/model_selection/_validation.py\", line 686, in _fit_and_score\n    estimator.fit(X_train, y_train, **fit_params)\n  File \"/usr/local/lib/python3.10/dist-packages/sklearn/naive_bayes.py\", line 776, in fit\n    self._count(X, Y)\n  File \"/usr/local/lib/python3.10/dist-packages/sklearn/naive_bayes.py\", line 898, in _count\n    check_non_negative(X, \"MultinomialNB (input X)\")\n  File \"/usr/local/lib/python3.10/dist-packages/sklearn/utils/validation.py\", line 1418, in check_non_negative\n    raise ValueError(\"Negative values in data passed to %s\" % whom)\nValueError: Negative values in data passed to MultinomialNB (input X)\n"
          ]
        }
      ],
      "source": [
        "# Оцінка моделей для різних способів трансформації тексту\n",
        "for method_name, transform in transformation_methods.items():\n",
        "    print(f\"\\nОцінка моделей для методу трансформації: {method_name}\")\n",
        "\n",
        "    # Трансформація даних\n",
        "    X_train_transformed, X_test_transformed = transform(X_train, X_test)\n",
        "\n",
        "    # Оцінка моделей\n",
        "    results = evaluate_models(models, X_train_transformed, y_train)\n",
        "\n",
        "    # Вибір найкращої моделі для поточного методу трансформації\n",
        "    best_model_name = max(results, key=lambda k: results[k][0])\n",
        "    best_model = models[best_model_name]\n",
        "    print(f\"\\nНайкраща модель для {method_name}: {best_model_name} з точністю {results[best_model_name][0]:.4f}\")\n",
        "\n",
        "    # Навчання та оцінка найкращої моделі на тестовій вибірці\n",
        "    best_model.fit(X_train_transformed, y_train)\n",
        "    y_pred_train = best_model.predict(X_train_transformed)\n",
        "    y_pred_test = best_model.predict(X_test_transformed)\n",
        "\n",
        "    train_accuracy = accuracy_score(y_train, y_pred_train)\n",
        "    test_accuracy = accuracy_score(y_test, y_pred_test)\n",
        "\n",
        "    print(f\"Точність на навчальній вибірці для {method_name}: {train_accuracy:.4f}\")\n",
        "    print(f\"Точність на тестовій вибірці для {method_name}: {test_accuracy:.4f}\")\n",
        "\n",
        "    # Візуалізація тренувальних і тестових помилок\n",
        "    plt.figure(figsize=(10, 5))\n",
        "    plt.bar(['Train Error', 'Test Error'], [1 - train_accuracy, 1 - test_accuracy], color=['blue', 'orange'])\n",
        "    plt.title(f'Навчальні і тестові помилки для {best_model_name} з використанням {method_name}')\n",
        "    plt.ylabel('Помилка')\n",
        "    plt.ylim(0, 1)\n",
        "    plt.show()"
      ]
    }
  ]
}